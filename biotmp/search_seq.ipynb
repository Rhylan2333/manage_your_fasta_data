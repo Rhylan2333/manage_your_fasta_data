{
 "cells": [
  {
   "cell_type": "code",
   "execution_count": 1,
   "metadata": {},
   "outputs": [
    {
     "data": {
      "text/plain": [
       "[{'row_key': b'client0',\n",
       "  'data': {b'info:pwd': b'8d969eef6ecad3c29a3a629280e686cf0c3f5d5a86aff3ca12020c923adc6c92'}},\n",
       " {'row_key': b'cyh',\n",
       "  'data': {b'info:pwd': b'a665a45920422f9d417e4867efdc4fb8a04a1f3fff1fa07e998e86f7f7a27ae3'}}]"
      ]
     },
     "execution_count": 1,
     "metadata": {},
     "output_type": "execute_result"
    }
   ],
   "source": [
    "import happybase\n",
    "\n",
    "connection = happybase.Connection('localhost')\n",
    "table = connection.table('user_info')\n",
    "\n",
    "rows = []\n",
    "\n",
    "for key, data in table.scan():\n",
    "    rows.append({'row_key': key, 'data': data})\n",
    "\n",
    "rows"
   ]
  },
  {
   "cell_type": "code",
   "execution_count": 2,
   "metadata": {},
   "outputs": [
    {
     "data": {
      "text/plain": [
       "['Seq_Show', 'seq_ID']"
      ]
     },
     "execution_count": 2,
     "metadata": {},
     "output_type": "execute_result"
    }
   ],
   "source": [
    "'Seq_Show:seq_ID'.split(':')"
   ]
  },
  {
   "cell_type": "code",
   "execution_count": 3,
   "metadata": {},
   "outputs": [
    {
     "name": "stdout",
     "output_type": "stream",
     "text": [
      "{'row_key': b'2023-06-16_16:07:07.975220', 'row_value': {b'Seq_Info:seq_Description': b'LOC110378942 cytochrome P450 4C1', b'Seq_Info:seq_Type': b'', b'Seq_Info:subtab_ID': b'2023-06-16', b'Seq_Show:renamed_ID': b'', b'Seq_Show:seq_ID': b'LOC110378942', b'Seq_Show:seq_Seq': b'TTATATCTTCAGTTTTTATTATAGCGGTGAAGGGCGTAGACGTTTGTAAAAATGTTCTGGTTTTTATTATGACCTGTCGAAGTCACTTTCGTTAAAAGACAATAAATATATTTTTAGAATGAACAAAA'}}\n",
      "{'row_key': b'2023-06-16_16:07:08.287462', 'row_value': {b'Seq_Info:seq_Description': b'LOC110374762 cytochrome P450 CYP12A2', b'Seq_Info:seq_Type': b'', b'Seq_Info:subtab_ID': b'2023-06-16', b'Seq_Show:renamed_ID': b'', b'Seq_Show:seq_ID': b'LOC110374762', b'Seq_Show:seq_Seq': b'AATTAATTTTATCATGTGCAGTGTGTTATCTACCTACTCACTTGTGTACAAGGTCAAACATATCAGCACTTATGCTACAAATGAATAAATTTTGTTACTGTTA'}}\n",
      "{'row_key': b'2023-06-16_16:07:08.289955', 'row_value': {b'Seq_Info:seq_Description': b'LOC110377394 cytochrome P450 4d2', b'Seq_Info:seq_Type': b'', b'Seq_Info:subtab_ID': b'2023-06-16', b'Seq_Show:renamed_ID': b'', b'Seq_Show:seq_ID': b'LOC110377394', b'Seq_Show:seq_Seq': b'ACGAATTTAACTTCATCCTAATATTCGATATTTTTTGTTTCAGAATTCTTGAACCTGGTTGAAAAATTTATATTTAATTTTGTGATATATTATGATATTTTTTACTTGTTAAGAATTAAATGTTATGACTGAA'}}\n",
      "3\n",
      "b'2023-06-16_16:07:08.289955'\n",
      "{'row_key': b'2023-06-16_16:07:08.289955', 'row_value': {b'Seq_Info:seq_Description': b'LOC110377394 cytochrome P450 4d2', b'Seq_Info:seq_Type': b'', b'Seq_Info:subtab_ID': b'2023-06-16', b'Seq_Show:renamed_ID': b'', b'Seq_Show:seq_ID': b'LOC110377394', b'Seq_Show:seq_Seq': b'ACGAATTTAACTTCATCCTAATATTCGATATTTTTTGTTTCAGAATTCTTGAACCTGGTTGAAAAATTTATATTTAATTTTGTGATATATTATGATATTTTTTACTTGTTAAGAATTAAATGTTATGACTGAA'}}\n",
      "b'2023-06-16'\n"
     ]
    }
   ],
   "source": [
    "# 测试查询 FASTA 序列查询结果的接口\n",
    "\n",
    "import happybase\n",
    "connection = happybase.Connection('localhost' , port=9090)\n",
    "table = connection.table('client0')\n",
    "\n",
    "rows2 = []\n",
    "\n",
    "search_col = 'Seq_Info:subtab_ID'\n",
    "# search_col = 'Seq_Show:seq_ID'\n",
    "\n",
    "keyword = '06-16'\n",
    "# keyword = '7394'\n",
    "\n",
    "filter_string = f\"SingleColumnValueFilter('{search_col.split(':')[0]}', '{search_col.split(':')[-1]}', =, 'substring:{keyword}')\"\n",
    "# filter_string = \"SingleColumnValueFilter('Seq_Info', 'subtab_ID', =, 'substring:06-15')\"  #  这就是模糊查询\n",
    "# scan 'client0', FILTER=>\"SingleColumnValueFilter('Seq_Info', 'seq_Description', =, 'substring:P450')\"\n",
    "\n",
    "for key, data in table.scan(filter=filter_string):  #\n",
    "    rows2.append({'row_key': key, 'row_value': data})\n",
    "\n",
    "for row in rows2:\n",
    "    print(row)\n",
    "\n",
    "print(len(rows2))\n",
    "print(rows2[-1]['row_key'])\n",
    "print(rows2[-1])\n",
    "print(rows2[-1]['row_value'][b'Seq_Info:subtab_ID'])\n"
   ]
  },
  {
   "cell_type": "code",
   "execution_count": 12,
   "metadata": {},
   "outputs": [
    {
     "name": "stdout",
     "output_type": "stream",
     "text": [
      "9\n",
      "row_key: b'2023-06-16_16:07:08.289955'\n",
      "seq_ID: b'LOC110377394'\n",
      "seq_Seq: b'ACGAATTTAACTTCATCCTAATATTCGATATTTTTTGTTTCAGAATTCTTGAACCTGGTTGAAAAATTTATATTTAATTTTGTGATATATTATGATATTTTTTACTTGTTAAGAATTAAATGTTATGACTGAA'\n",
      "renamed_ID: b''\n",
      "seq_Description: b'LOC110377394 cytochrome P450 4d2'\n",
      "seq_Type: b''\n",
      "subtab_ID: b'2023-06-16'\n",
      "row_key: b'2023-06-17_15:22:18.402097'\n",
      "seq_ID: b'LOC110377394'\n",
      "seq_Seq: b'ACGAATTTAACTTCATCCTAATATTCGATATTTTTTGTTTCAGAATTCTTGAACCTGGTTGAAAAATTTATATTTAATTTTGTGATATATTATGATATTTTTTACTTGTTAAGAATTAAATGTTATGACTGAA'\n",
      "renamed_ID: b''\n",
      "seq_Description: b'LOC110377394 cytochrome P450 4d2'\n",
      "seq_Type: b''\n",
      "subtab_ID: b'Harm_P450_2'\n",
      "row_key: b'2023-06-17_15:32:37.864956'\n",
      "seq_ID: b'LOC110377394'\n",
      "seq_Seq: b'ACGAATTTAACTTCATCCTAATATTCGATATTTTTTGTTTCAGAATTCTTGAACCTGGTTGAAAAATTTATATTTAATTTTGTGATATATTATGATATTTTTTACTTGTTAAGAATTAAATGTTATGACTGAA'\n",
      "renamed_ID: b''\n",
      "seq_Description: b'LOC110377394 cytochrome P450 4d2'\n",
      "seq_Type: b''\n",
      "subtab_ID: b'Harm_P450_1'\n",
      "row_key: b'2023-06-17_15:34:14.594894'\n",
      "seq_ID: b'LOC110377394'\n",
      "seq_Seq: b'ACGAATTTAACTTCATCCTAATATTCGATATTTTTTGTTTCAGAATTCTTGAACCTGGTTGAAAAATTTATATTTAATTTTGTGATATATTATGATATTTTTTACTTGTTAAGAATTAAATGTTATGACTGAA'\n",
      "renamed_ID: b''\n",
      "seq_Description: b'LOC110377394 cytochrome P450 4d2'\n",
      "seq_Type: b''\n",
      "subtab_ID: b'Harm_P450_5'\n",
      "row_key: b'2023-06-20_16:59:00.356708'\n",
      "seq_ID: b'XP_021187394.1'\n",
      "seq_Seq: b'MAKYNFEGDYSSFNDRQLNFINKVVNEQDLKVKKVVFHQLGQAGDNFMGNVKRINIEGENGNMNMIIKIAPSNEVARQTYQSGLMFRNEHVVYTKVLPKFVQLQKAAGVPQEEELKFAKCYGSLSEEPNEVIILEDLSESGFSMMDKFKSLPDNYVRNFLKSFAVLHSLSYALKSQEPAFYKQLKEDLKDPWSSFGDFQIQMLGAGDTMEAGFLEIIQNEDHKNLLKNKITDGILERKKMIESENDRNHTIIQHGDGWTNNILFKLEDDKLQSVMLDYQGANNNNPMSDILFMIFHCTDHEARSKHFHDWIDYYHSEMDKFLSYFGLKVNEFYTRDQIDADLKKYAKIIFGIVLLMINVIQRDSSEAGKLKDSMKNMENEADIADTMNTLDLQSGTIERINKKVGELIETLHQFDLF'\n",
      "renamed_ID: b''\n",
      "seq_Description: b'XP_021187394.1 uncharacterized protein LOC110374136 [Helicoverpa armigera]'\n",
      "seq_Type: b''\n",
      "subtab_ID: b'Harm_protein'\n",
      "row_key: b'2023-06-20_16:59:03.261869'\n",
      "seq_ID: b'XP_021197394.1'\n",
      "seq_Seq: b'MAPPDKKDSTKQAIIPYTTAVITVAGAEDEADSGVAYFVDEDGRYYYQPTVEGQEFVMNNQTTSQDTEQGTQESDTMLTDQEAEGYQTVTLVPSETNGEVSYVLVVQEENKAMVNIDLKVDQSEAGEKGNDDVYNFEEEEAGEEASEEEDDAPEGRPKPQKKSKHTRLNFQCNFCSYTSHRRYLLLRHMKSHSDERPHKCMVCERGFKTMASLQNHVNMHNGVKPHVCKYCNSPFTTSGELVRHVRYKHTHEKPHKCTECDYASVELSKLRRHVRCHTGERPYQCPHCTYASPDTFKLKRHLRTHTGEKPYKCENCNMCFTQSNSLKAHRLIHNVSDKPVYSCELCPAKCGRKTDLRIHVQKLHTSDKPLRCRRCGKSFPDRYSCKVHNKTHEGEKCFKCEICPYASTTLRHLKSHMLKHTDEKPFLCDLCDQSFRQKQLLRRHQNLYHNPDYVPKPPKEKNHTCHECKRMFAHKGNLIRHLAVHDPESGHQEQALALKIGRQRKVKFLDAEPSRDIRVVDPTNASEMMKLGLANNEMKRGELVTVTDGDGQQYVVLEVIQLEDGTEQQVAVVAPDYMEEDAQEEGEEEEEEEEEEEGDAEMSYGGKSSENDNNIKLEKEVDSCFGFDVGRKRKFVLRPVPPRVAYVETPDSPRVHPFQCLKNYKRKRSAPSCTEVSSSNAEVSSSNAKVSSSNTEVTSSEPRVSISVDICSADGNVKPNDEAAVSLSDNPQPSQAPAALAGSPQSRQTTRSPDGVREVVDRILEIYLEARLLYGATEIMHLCYSMDSLLK'\n",
      "renamed_ID: b''\n",
      "seq_Description: b'XP_021197394.1 transcriptional repressor CTCFL-like isoform X1 [Helicoverpa armigera]'\n",
      "seq_Type: b''\n",
      "subtab_ID: b'Harm_protein'\n",
      "row_key: b'2023-06-20_17:01:36.498684'\n",
      "seq_ID: b'Harm007394.1'\n",
      "seq_Seq: b'MPTDSECECDLVSKEWLLAKLRSDERDTVLIDCRGSNEYAISHIRSAVNFSIPSIMLRRLAAGKIELVSTVQCKELKARISHCSSRGIFVLYGEGVPRDPDSVHGILLRRLKQDGVQVVCLEGDFEEFRRAYPEWCSEAGAQHVPHLPLMGLRSLRISGSGCEDALSSGSSSECEDAHGHAPQDFPIEILPNLYLGNSTNSEDCDALARHNIKYVLNVTPDLPNTFEAEGCGINYLKIPIADHWSQNLSVHFPQAIRFIEEAMSARCGVLVHCVAGVSRSVTVTLAYLMQRHRLCLRDAFELVRSRKTDIAPNFHFMRQLHSFENCWTV'\n",
      "renamed_ID: b''\n",
      "seq_Description: b'Harm007394.1 annotation: Dual specificity protein phosphatase Mpk3 OS=Drosophila melanogaster OX=7227 GN=Mkp3 PE=1 SV=2'\n",
      "seq_Type: b''\n",
      "subtab_ID: b'Harm_protein_InsectBase'\n",
      "row_key: b'2023-06-20_17:59:36.642435'\n",
      "seq_ID: b'Harm007394.1'\n",
      "seq_Seq: b'MPTDSECECDLVSKEWLLAKLRSDERDTVLIDCRGSNEYAISHIRSAVNFSIPSIMLRRLAAGKIELVSTVQCKELKARISHCSSRGIFVLYGEGVPRDPDSVHGILLRRLKQDGVQVVCLEGDFEEFRRAYPEWCSEAGAQHVPHLPLMGLRSLRISGSGCEDALSSGSSSECEDAHGHAPQDFPIEILPNLYLGNSTNSEDCDALARHNIKYVLNVTPDLPNTFEAEGCGINYLKIPIADHWSQNLSVHFPQAIRFIEEAMSARCGVLVHCVAGVSRSVTVTLAYLMQRHRLCLRDAFELVRSRKTDIAPNFHFMRQLHSFENCWTV'\n",
      "renamed_ID: b''\n",
      "seq_Description: b'Harm007394.1 annotation: Dual specificity protein phosphatase Mpk3 OS=Drosophila melanogaster OX=7227 GN=Mkp3 PE=1 SV=2'\n",
      "seq_Type: b''\n",
      "subtab_ID: b'Harm_protein_InsectBase_1'\n",
      "row_key: b'2023-06-20_18:03:09.316821'\n",
      "seq_ID: b'Harm007394.1'\n",
      "seq_Seq: b'MPTDSECECDLVSKEWLLAKLRSDERDTVLIDCRGSNEYAISHIRSAVNFSIPSIMLRRLAAGKIELVSTVQCKELKARISHCSSRGIFVLYGEGVPRDPDSVHGILLRRLKQDGVQVVCLEGDFEEFRRAYPEWCSEAGAQHVPHLPLMGLRSLRISGSGCEDALSSGSSSECEDAHGHAPQDFPIEILPNLYLGNSTNSEDCDALARHNIKYVLNVTPDLPNTFEAEGCGINYLKIPIADHWSQNLSVHFPQAIRFIEEAMSARCGVLVHCVAGVSRSVTVTLAYLMQRHRLCLRDAFELVRSRKTDIAPNFHFMRQLHSFENCWTV'\n",
      "renamed_ID: b''\n",
      "seq_Description: b'Harm007394.1 annotation: Dual specificity protein phosphatase Mpk3 OS=Drosophila melanogaster OX=7227 GN=Mkp3 PE=1 SV=2'\n",
      "seq_Type: b''\n",
      "subtab_ID: b'Harm_protein_InsectBase_2'\n"
     ]
    }
   ],
   "source": [
    "# 测试查询 FASTA 序列查询结果的接口\n",
    "\n",
    "import happybase\n",
    "\n",
    "import itertools\n",
    "\n",
    "connection = happybase.Connection('localhost' , port=9090)\n",
    "table = connection.table('client0')\n",
    "\n",
    "# search_col = 'Seq_Info:subtab_ID'\n",
    "search_col = 'Seq_Show:seq_ID'\n",
    "\n",
    "# keyword = '06-15'\n",
    "keyword = '7394'\n",
    "\n",
    "filter_string = f\"SingleColumnValueFilter('{search_col.split(':')[0]}', '{search_col.split(':')[-1]}', =, 'substring:{keyword}')\"\n",
    "\n",
    "rows3 =  table.scan(filter=filter_string)  #\n",
    "\n",
    "rows3, rows3_copy = itertools.tee(rows3)\n",
    "\n",
    "print(len(list(rows3_copy)))\n",
    "\n",
    "for row in rows3:\n",
    "    row_key = row[0]\n",
    "    print('row_key:', row_key)\n",
    "    seq_ID = row[-1]['Seq_Show:seq_ID'.encode()]\n",
    "    seq_Seq = row[-1][b'Seq_Show:seq_Seq']\n",
    "    renamed_ID = row[-1][b'Seq_Show:renamed_ID']\n",
    "    seq_Description = row[-1][b'Seq_Info:seq_Description']\n",
    "    seq_Type = row[-1][b'Seq_Info:seq_Type']\n",
    "    subtab_ID = row[-1][b'Seq_Info:subtab_ID']\n",
    "    print('seq_ID:', seq_ID)\n",
    "    print('seq_Seq:', seq_Seq)\n",
    "    print('renamed_ID:', renamed_ID)\n",
    "    print('seq_Description:', seq_Description)\n",
    "    print('seq_Type:', seq_Type)\n",
    "    print('subtab_ID:', subtab_ID)\n"
   ]
  },
  {
   "cell_type": "code",
   "execution_count": 6,
   "metadata": {},
   "outputs": [
    {
     "name": "stdout",
     "output_type": "stream",
     "text": [
      "b'LOC110378942'\n"
     ]
    },
    {
     "data": {
      "text/plain": [
       "{b'Seq_Info:seq_Description': b'LOC110378942 cytochrome P450 4C1',\n",
       " b'Seq_Info:seq_Type': b'',\n",
       " b'Seq_Info:subtab_ID': b'2023-06-16',\n",
       " b'Seq_Show:renamed_ID': b'',\n",
       " b'Seq_Show:seq_ID': b'LOC110378942',\n",
       " b'Seq_Show:seq_Seq': b'TTATATCTTCAGTTTTTATTATAGCGGTGAAGGGCGTAGACGTTTGTAAAAATGTTCTGGTTTTTATTATGACCTGTCGAAGTCACTTTCGTTAAAAGACAATAAATATATTTTTAGAATGAACAAAA'}"
      ]
     },
     "execution_count": 6,
     "metadata": {},
     "output_type": "execute_result"
    }
   ],
   "source": [
    "import happybase\n",
    "connection = happybase.Connection('localhost' , port=9090)\n",
    "table = connection.table('client0')\n",
    "\n",
    "row_key = '2023-06-16_16:07:07.975220'\n",
    "\n",
    "row_value =  table.row(row_key)  #\n",
    "\n",
    "print(row_value[b'Seq_Show:seq_ID'])\n",
    "\n",
    "row_value"
   ]
  },
  {
   "cell_type": "code",
   "execution_count": 18,
   "metadata": {},
   "outputs": [
    {
     "name": "stdout",
     "output_type": "stream",
     "text": [
      "Harm_protein_InsectBase 13547\n",
      "Harm_protein_NCBI 21035\n",
      "Harm_Cytochrome_P450_InsectBase.cds 83\n",
      "Harm_Cytochrome_P450_InsectBase.pro 84\n",
      "Harm_Cytochrome_P450_InsectBase.cds length: 83\n",
      "2023-06-20_21:09:38.189663 Atri021475\n",
      "2023-06-20_21:09:38.196344 Atri011635\n",
      "2023-06-20_21:09:38.200297 Atri011634\n",
      "2023-06-20_21:09:38.201914 Atri013555\n",
      "2023-06-20_21:09:38.203035 Atri000096\n",
      "2023-06-20_21:09:38.204354 Atri001898\n",
      "2023-06-20_21:09:38.205338 Atri013142\n",
      "2023-06-20_21:09:38.206095 Atri013094\n",
      "2023-06-20_21:09:38.206463 Atri013553\n",
      "2023-06-20_21:09:38.207107 Atri011632\n",
      "2023-06-20_21:09:38.207643 Atri004783\n",
      "2023-06-20_21:09:38.207980 Atri001907\n",
      "2023-06-20_21:09:38.208294 Atri001899\n",
      "2023-06-20_21:09:38.208584 Atri002037\n",
      "2023-06-20_21:09:38.208942 Atri000098\n",
      "2023-06-20_21:09:38.209231 Atri012441\n",
      "2023-06-20_21:09:38.209515 Atri013150\n",
      "2023-06-20_21:09:38.209793 Atri013099\n",
      "2023-06-20_21:09:38.210070 Atri002738\n",
      "2023-06-20_21:09:38.210351 Atri000101\n",
      "2023-06-20_21:09:38.210657 Atri021027\n",
      "2023-06-20_21:09:38.210938 Atri018229\n",
      "2023-06-20_21:09:38.211250 Atri015116\n",
      "2023-06-20_21:09:38.211558 Atri015514\n",
      "2023-06-20_21:09:38.211956 Atri000511\n",
      "2023-06-20_21:09:38.212625 Atri009316\n",
      "2023-06-20_21:09:38.213479 Atri020710\n",
      "2023-06-20_21:09:38.213958 Atri011633\n",
      "2023-06-20_21:09:38.214295 Atri012750\n",
      "2023-06-20_21:09:38.214657 Atri012668\n",
      "2023-06-20_21:09:38.214949 Atri013140\n",
      "2023-06-20_21:09:38.215258 Atri013098\n",
      "2023-06-20_21:09:38.215692 Atri013096\n",
      "2023-06-20_21:09:38.216152 Atri013095\n",
      "2023-06-20_21:09:38.216494 Atri002035\n",
      "2023-06-20_21:09:38.216834 Atri002034\n",
      "2023-06-20_21:09:38.217115 Atri002031\n",
      "2023-06-20_21:09:38.217411 Atri002968\n",
      "2023-06-20_21:09:38.217752 Atri005364\n",
      "2023-06-20_21:09:38.218030 Atri005363\n",
      "2023-06-20_21:09:38.218295 Atri015513\n",
      "2023-06-20_21:09:38.218578 Atri018228\n",
      "2023-06-20_21:09:38.218834 Atri018135\n",
      "2023-06-20_21:09:38.219099 Atri018134\n",
      "2023-06-20_21:09:38.219353 Atri015119\n",
      "2023-06-20_21:09:38.219606 Atri000099\n",
      "2023-06-20_21:09:38.219859 Atri009461\n",
      "2023-06-20_21:09:38.220111 Atri009352\n",
      "2023-06-20_21:09:38.220372 Atri013100\n",
      "2023-06-20_21:09:38.220665 Atri002030\n",
      "2023-06-20_21:09:38.221006 Atri001900\n",
      "2023-06-20_21:09:38.221359 Atri000762\n",
      "2023-06-20_21:09:38.221736 Atri000510\n",
      "2023-06-20_21:09:38.222084 Atri000102\n",
      "2023-06-20_21:09:38.222458 Atri000100\n",
      "2023-06-20_21:09:38.222911 Atri002967\n",
      "2023-06-20_21:09:38.223284 Atri020714\n",
      "2023-06-20_21:09:38.223640 Atri018411\n",
      "2023-06-20_21:09:38.224014 Atri018231\n",
      "2023-06-20_21:09:38.224526 Atri015117\n",
      "2023-06-20_21:09:38.224862 Atri008971\n",
      "2023-06-20_21:09:38.225329 Atri008180\n",
      "2023-06-20_21:09:38.225604 Atri009508\n",
      "2023-06-20_21:09:38.225900 Atri009441\n",
      "2023-06-20_21:09:38.226178 Atri009431\n",
      "2023-06-20_21:09:38.226469 Atri015460\n",
      "2023-06-20_21:09:38.226766 Atri015118\n",
      "2023-06-20_21:09:38.227031 Atri015515\n",
      "2023-06-20_21:09:38.227289 Atri017101\n",
      "2023-06-20_21:09:38.227564 Atri009511\n",
      "2023-06-20_21:09:38.227827 Atri008972\n",
      "2023-06-20_21:09:38.228091 Atri009295\n",
      "2023-06-20_21:09:38.228423 Atri002036\n",
      "2023-06-20_21:09:38.228760 Atri020711\n",
      "2023-06-20_21:09:38.229087 Atri020157\n",
      "2023-06-20_21:09:38.229480 Atri020156\n",
      "2023-06-20_21:09:38.229850 Atri018313\n",
      "2023-06-20_21:09:38.230163 Atri018311\n",
      "2023-06-20_21:09:38.230458 Atri018160\n",
      "2023-06-20_21:09:38.230777 Atri009510\n",
      "2023-06-20_21:09:38.231148 Atri009509\n",
      "2023-06-20_21:09:38.231464 Atri009462\n",
      "2023-06-20_21:09:38.231769 Atri005677\n"
     ]
    }
   ],
   "source": [
    "# 定义查询 FASTA 序列表的接口\n",
    "import happybase\n",
    "# 连接 HBase 数据库\n",
    "connection = happybase.Connection('localhost', port=9090)\n",
    "table = connection.table('client0')\n",
    "\n",
    "dic_subtabs = {}\n",
    "for row_key, row_value in table.scan():\n",
    "    subtab_id  = row_value['Seq_Info:subtab_ID'.encode()].decode()\n",
    "    if subtab_id not in dic_subtabs:\n",
    "        dic_subtabs[subtab_id] = 1\n",
    "    else:\n",
    "        dic_subtabs[subtab_id] += 1\n",
    "\n",
    "for subtab_name, row_count in dic_subtabs.items():\n",
    "    print(subtab_name, row_count)\n",
    "\n",
    "# 存儲子表用\n",
    "dic_subtab = {}\n",
    "subtab_name = 'Harm_Cytochrome_P450_InsectBase.cds'\n",
    "for row_key, row_value in table.scan():\n",
    "    if row_value['Seq_Info:subtab_ID'.encode()].decode() == subtab_name:\n",
    "        dic_subtab[row_key] = row_value\n",
    "\n",
    "print(subtab_name, 'length:', len(dic_subtab))\n",
    "\n",
    "for row_key, row_value in dic_subtab.items():\n",
    "    print(row_key.decode(), row_value['Seq_Show:seq_ID'.encode()].decode())"
   ]
  }
 ],
 "metadata": {
  "kernelspec": {
   "display_name": "fastapi_hbase",
   "language": "python",
   "name": "python3"
  },
  "language_info": {
   "codemirror_mode": {
    "name": "ipython",
    "version": 3
   },
   "file_extension": ".py",
   "mimetype": "text/x-python",
   "name": "python",
   "nbconvert_exporter": "python",
   "pygments_lexer": "ipython3",
   "version": "3.11.4"
  },
  "orig_nbformat": 4
 },
 "nbformat": 4,
 "nbformat_minor": 2
}
